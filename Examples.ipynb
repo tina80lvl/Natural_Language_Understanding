{
 "cells": [
  {
   "cell_type": "code",
   "execution_count": 1,
   "metadata": {},
   "outputs": [
    {
     "name": "stdout",
     "output_type": "stream",
     "text": [
      "Local minimum occurs at  2.2499646074278457\n"
     ]
    }
   ],
   "source": [
    "# cost function: finding of local minimum\n",
    "x_old = 0\n",
    "x_new = 6 # alorythm starts at 6\n",
    "eps = 0.01 # step size\n",
    "precision = 0.00001\n",
    "\n",
    "def f_derivitive(x):\n",
    "    return 4 * x**3 - 9 * x**2\n",
    "\n",
    "while abs(x_new - x_old) > precision:\n",
    "    x_old = x_new\n",
    "    x_new = x_old - eps * f_derivitive(x_old)\n",
    "\n",
    "print (\"Local minimum occurs at \", x_new)"
   ]
  },
  {
   "cell_type": "code",
   "execution_count": 11,
   "metadata": {},
   "outputs": [
    {
     "data": {
      "image/png": "[encoded data removed]",
      "text/plain": [
       "<Figure size 432x288 with 1 Axes>"
      ]
     },
     "metadata": {
      "needs_background": "light"
     },
     "output_type": "display_data"
    }
   ],
   "source": [
    "# SVD word vector\n",
    "import numpy as np\n",
    "import matplotlib.pyplot as plt\n",
    "la = np.linalg\n",
    "words = [\"I\", \"like\", \"enjoy\", \"deep\", \"learning\", \"NLP\", \"flying\", \".\"]\n",
    "X = np.array([[0,2,1,0,0,0,0,0],\n",
    "            [2,0,0,2,0,2,0,0],\n",
    "            [1,0,0,0,0,0,1,0],\n",
    "            [0,1,0,0,1,0,0,0],\n",
    "            [0,0,0,1,0,0,0,1],\n",
    "            [0,1,0,0,0,0,0,1],\n",
    "            [0,0,1,0,0,0,0,1],\n",
    "            [0,0,0,0,1,1,1,0]])\n",
    "U, s, Vh = la.svd(X, full_matrices = False)\n",
    "plt.axis([-1, 0.2, -0.9, 0.3])\n",
    "for i in range(len(words)):\n",
    "    plt.text(U[i,0], U[i,1], words[i])"
   ]
  },
  {
   "cell_type": "code",
   "execution_count": 1,
   "metadata": {},
   "outputs": [
    {
     "name": "stdout",
     "output_type": "stream",
     "text": [
      "554 µs ± 16.7 µs per loop (mean ± std. dev. of 7 runs, 1000 loops each)\n",
      "140 µs ± 5.67 µs per loop (mean ± std. dev. of 7 runs, 10000 loops each)\n"
     ]
    }
   ],
   "source": [
    "# Looping over worvectors instead of concatenating\n",
    "from numpy import random\n",
    "N = 500 # namber of windows to classify\n",
    "d = 300 # dimensionally of each window \n",
    "C = 5 #number of classes\n",
    "W = random.rand(C, d)\n",
    "wordvectors_list = [random.rand(d, 1) for i in range(N)]\n",
    "wordvectors_one_matrix = random.rand(d, N)\n",
    "\n",
    "%timeit [W.dot(wordvectors_list[i]) for i in range(N)]\n",
    "%timeit W.dot(wordvectors_one_matrix)"
   ]
  },
  {
   "cell_type": "code",
   "execution_count": 2,
   "metadata": {},
   "outputs": [],
   "source": [
    "# TensorFlow\n",
    "import tensorflow as tf\n",
    "b = tf.Variable(tf.zeros((100,)))\n",
    "W = tf.Variable(tf.random_uniform((784, 100), -1, 1))\n",
    "\n",
    "x = tf.placeholder(tf.float32, (100, 784))\n",
    "\n",
    "h = tf.nn.relu(tf.matmul(x, W) + b)\n"
   ]
  },
  {
   "cell_type": "code",
   "execution_count": null,
   "metadata": {},
   "outputs": [],
   "source": []
  }
 ],
 "metadata": {
  "kernelspec": {
   "display_name": "Python 3",
   "language": "python",
   "name": "python3"
  },
  "language_info": {
   "codemirror_mode": {
    "name": "ipython",
    "version": 3
   },
   "file_extension": ".py",
   "mimetype": "text/x-python",
   "name": "python",
   "nbconvert_exporter": "python",
   "pygments_lexer": "ipython3",
   "version": "3.6.5"
  }
 },
 "nbformat": 4,
 "nbformat_minor": 2
}
